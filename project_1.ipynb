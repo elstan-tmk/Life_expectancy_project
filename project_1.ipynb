{
 "cells": [
  {
   "cell_type": "code",
   "execution_count": 1,
   "metadata": {},
   "outputs": [],
   "source": [
    "import pandas as pd\n",
    "import matplotlib.pyplot as plt\n",
    "import scipy.stats as st\n",
    "from scipy.stats import linregress\n",
    "import numpy as np\n",
    "from sklearn import datasets"
   ]
  },
  {
   "cell_type": "code",
   "execution_count": 2,
   "metadata": {},
   "outputs": [],
   "source": [
    "life_file = \"Resources/lifeexpectancy.csv\"\n",
    "hale_file = \"Resources/halelife.csv\""
   ]
  },
  {
   "cell_type": "code",
   "execution_count": 3,
   "metadata": {},
   "outputs": [],
   "source": [
    "life_data = pd.read_csv(life_file)\n",
    "hale_data = pd.read_csv(hale_file)"
   ]
  },
  {
   "cell_type": "code",
   "execution_count": 9,
   "metadata": {},
   "outputs": [
    {
     "output_type": "execute_result",
     "data": {
      "text/plain": [
       "      Location  Period         Sex  Life (years)  HALE (years)\n",
       "0  Afghanistan    2019  Both sexes         63.21         53.95\n",
       "1  Afghanistan    2019        Male         63.29         54.73\n",
       "2  Afghanistan    2019      Female         63.16         53.15\n",
       "3  Afghanistan    2015  Both sexes         61.65         52.60\n",
       "4  Afghanistan    2015        Male         61.04         52.78"
      ],
      "text/html": "<div>\n<style scoped>\n    .dataframe tbody tr th:only-of-type {\n        vertical-align: middle;\n    }\n\n    .dataframe tbody tr th {\n        vertical-align: top;\n    }\n\n    .dataframe thead th {\n        text-align: right;\n    }\n</style>\n<table border=\"1\" class=\"dataframe\">\n  <thead>\n    <tr style=\"text-align: right;\">\n      <th></th>\n      <th>Location</th>\n      <th>Period</th>\n      <th>Sex</th>\n      <th>Life (years)</th>\n      <th>HALE (years)</th>\n    </tr>\n  </thead>\n  <tbody>\n    <tr>\n      <th>0</th>\n      <td>Afghanistan</td>\n      <td>2019</td>\n      <td>Both sexes</td>\n      <td>63.21</td>\n      <td>53.95</td>\n    </tr>\n    <tr>\n      <th>1</th>\n      <td>Afghanistan</td>\n      <td>2019</td>\n      <td>Male</td>\n      <td>63.29</td>\n      <td>54.73</td>\n    </tr>\n    <tr>\n      <th>2</th>\n      <td>Afghanistan</td>\n      <td>2019</td>\n      <td>Female</td>\n      <td>63.16</td>\n      <td>53.15</td>\n    </tr>\n    <tr>\n      <th>3</th>\n      <td>Afghanistan</td>\n      <td>2015</td>\n      <td>Both sexes</td>\n      <td>61.65</td>\n      <td>52.60</td>\n    </tr>\n    <tr>\n      <th>4</th>\n      <td>Afghanistan</td>\n      <td>2015</td>\n      <td>Male</td>\n      <td>61.04</td>\n      <td>52.78</td>\n    </tr>\n  </tbody>\n</table>\n</div>"
     },
     "metadata": {},
     "execution_count": 9
    }
   ],
   "source": [
    "life_results = pd.merge(life_data, hale_data, how=\"inner\", on=[\"Location\",\"Period\",\"Sex\"])\n",
    "life_results = life_results.rename(columns = {\"Life expectancy at birth (years)\": \"Life (years)\", \"Healthy life expectancy (HALE) at birth (years)\":\"HALE (years)\"})\n",
    "life_results.head()"
   ]
  },
  {
   "cell_type": "code",
   "execution_count": 5,
   "metadata": {},
   "outputs": [
    {
     "output_type": "execute_result",
     "data": {
      "text/plain": [
       "      Location  Period         Sex  Life (years)  HALE (years)\n",
       "0  Afghanistan    2019  Both sexes         63.21         53.95\n",
       "1  Afghanistan    2019        Male         63.29         54.73\n",
       "2  Afghanistan    2019      Female         63.16         53.15\n",
       "3  Afghanistan    2015  Both sexes         61.65         52.60\n",
       "4  Afghanistan    2015        Male         61.04         52.78"
      ],
      "text/html": "<div>\n<style scoped>\n    .dataframe tbody tr th:only-of-type {\n        vertical-align: middle;\n    }\n\n    .dataframe tbody tr th {\n        vertical-align: top;\n    }\n\n    .dataframe thead th {\n        text-align: right;\n    }\n</style>\n<table border=\"1\" class=\"dataframe\">\n  <thead>\n    <tr style=\"text-align: right;\">\n      <th></th>\n      <th>Location</th>\n      <th>Period</th>\n      <th>Sex</th>\n      <th>Life (years)</th>\n      <th>HALE (years)</th>\n    </tr>\n  </thead>\n  <tbody>\n    <tr>\n      <th>0</th>\n      <td>Afghanistan</td>\n      <td>2019</td>\n      <td>Both sexes</td>\n      <td>63.21</td>\n      <td>53.95</td>\n    </tr>\n    <tr>\n      <th>1</th>\n      <td>Afghanistan</td>\n      <td>2019</td>\n      <td>Male</td>\n      <td>63.29</td>\n      <td>54.73</td>\n    </tr>\n    <tr>\n      <th>2</th>\n      <td>Afghanistan</td>\n      <td>2019</td>\n      <td>Female</td>\n      <td>63.16</td>\n      <td>53.15</td>\n    </tr>\n    <tr>\n      <th>3</th>\n      <td>Afghanistan</td>\n      <td>2015</td>\n      <td>Both sexes</td>\n      <td>61.65</td>\n      <td>52.60</td>\n    </tr>\n    <tr>\n      <th>4</th>\n      <td>Afghanistan</td>\n      <td>2015</td>\n      <td>Male</td>\n      <td>61.04</td>\n      <td>52.78</td>\n    </tr>\n  </tbody>\n</table>\n</div>"
     },
     "metadata": {},
     "execution_count": 5
    }
   ],
   "source": []
  },
  {
   "cell_type": "code",
   "execution_count": 6,
   "metadata": {},
   "outputs": [
    {
     "output_type": "execute_result",
     "data": {
      "text/plain": [
       "   Period  Life (years)  HALE (years)\n",
       "0    2000     66.778707     58.486248\n",
       "1    2010     70.027705     61.275100\n",
       "2    2015     71.518579     62.502240\n",
       "3    2019     72.557413     63.315829"
      ],
      "text/html": "<div>\n<style scoped>\n    .dataframe tbody tr th:only-of-type {\n        vertical-align: middle;\n    }\n\n    .dataframe tbody tr th {\n        vertical-align: top;\n    }\n\n    .dataframe thead th {\n        text-align: right;\n    }\n</style>\n<table border=\"1\" class=\"dataframe\">\n  <thead>\n    <tr style=\"text-align: right;\">\n      <th></th>\n      <th>Period</th>\n      <th>Life (years)</th>\n      <th>HALE (years)</th>\n    </tr>\n  </thead>\n  <tbody>\n    <tr>\n      <th>0</th>\n      <td>2000</td>\n      <td>66.778707</td>\n      <td>58.486248</td>\n    </tr>\n    <tr>\n      <th>1</th>\n      <td>2010</td>\n      <td>70.027705</td>\n      <td>61.275100</td>\n    </tr>\n    <tr>\n      <th>2</th>\n      <td>2015</td>\n      <td>71.518579</td>\n      <td>62.502240</td>\n    </tr>\n    <tr>\n      <th>3</th>\n      <td>2019</td>\n      <td>72.557413</td>\n      <td>63.315829</td>\n    </tr>\n  </tbody>\n</table>\n</div>"
     },
     "metadata": {},
     "execution_count": 6
    }
   ],
   "source": [
    "# Grouping Years compare to Life Expectancy and HALE\n",
    "\n",
    "period_sorting = life_results.groupby(\"Period\").mean()\n",
    "life_compare_df= pd.DataFrame(period_sorting)\n",
    "life_compare_df.reset_index()"
   ]
  },
  {
   "cell_type": "code",
   "execution_count": 7,
   "metadata": {},
   "outputs": [],
   "source": [
    "# Bar chart for Period and Life Expectancy (years)\n",
    "# x_axis = life_compare_df[\"Period\"]\n",
    "# y_axis = life_compare_df[\"Life (years)\"]\n",
    "\n",
    "# fig1, ax1 = plt.subplots()\n",
    "# ax1.set_title(\"Period VS Life Expectancy (years)\")\n",
    "# ax1.set_xlabel(\"Period\")\n",
    "# ax1.set_ylabel(\"Life Expectancy (years)\")\n",
    "\n",
    "\n",
    "# plt.ylim(35,50)\n",
    "\n",
    "# plt.show()"
   ]
  },
  {
   "cell_type": "code",
   "execution_count": 8,
   "metadata": {},
   "outputs": [],
   "source": [
    "# Bar chart for Period and  (years)\n",
    "# x_axis = life_compare_df[\"Period\"]\n",
    "# y_axis = life_compare_df[\"HALE (years)\"]\n",
    "\n",
    "# fig1, ax1 = plt.subplots()\n",
    "# ax1.set_title(\"Period VS Life Expectancy (years)\")\n",
    "# ax1.set_xlabel(\"Period\")\n",
    "# ax1.set_ylabel(\"Life Expectancy (years)\")\n",
    "\n",
    "\n",
    "# plt.ylim(35,50)\n",
    "\n",
    "# plt.show()"
   ]
  }
 ],
 "metadata": {
  "kernelspec": {
   "display_name": "Python 3",
   "language": "python",
   "name": "python3"
  },
  "language_info": {
   "codemirror_mode": {
    "name": "ipython",
    "version": 3
   },
   "file_extension": ".py",
   "mimetype": "text/x-python",
   "name": "python",
   "nbconvert_exporter": "python",
   "pygments_lexer": "ipython3",
   "version": "3.7.3-final"
  }
 },
 "nbformat": 4,
 "nbformat_minor": 2
}